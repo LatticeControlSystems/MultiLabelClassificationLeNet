{
 "cells": [
  {
   "cell_type": "code",
   "execution_count": 1,
   "metadata": {},
   "outputs": [
    {
     "name": "stderr",
     "output_type": "stream",
     "text": [
      "/usr/local/lib/python3.5/dist-packages/h5py/__init__.py:36: FutureWarning: Conversion of the second argument of issubdtype from `float` to `np.floating` is deprecated. In future, it will be treated as `np.float64 == np.dtype(float).type`.\n",
      "  from ._conv import register_converters as _register_converters\n",
      "Using TensorFlow backend.\n"
     ]
    }
   ],
   "source": [
    "import matplotlib\n",
    "matplotlib.use(\"Agg\")\n",
    "\n",
    "# import the necessary packages\n",
    "from keras.preprocessing.image import ImageDataGenerator\n",
    "from keras.optimizers import Adam\n",
    "from sklearn.model_selection import train_test_split\n",
    "from keras.preprocessing.image import img_to_array\n",
    "from keras.utils import to_categorical\n",
    "from pyimagesearch.lenet import LeNet\n",
    "from imutils import paths\n",
    "import matplotlib.pyplot as plt\n",
    "import numpy as np\n",
    "import argparse\n",
    "import random\n",
    "import cv2\n",
    "import os\n",
    "import matplotlib\n"
   ]
  },
  {
   "cell_type": "code",
   "execution_count": 7,
   "metadata": {},
   "outputs": [
    {
     "name": "stdout",
     "output_type": "stream",
     "text": [
      "[INFO] loading images...\n",
      "[INFO] compiling model...\n",
      "[INFO] training network...\n",
      "WARNING:tensorflow:Variable *= will be deprecated. Use variable.assign_mul if you want assignment to the variable value or 'x = x * y' if you want a new python Tensor object.\n",
      "Epoch 1/25\n",
      "29/29 [==============================] - 8s 283ms/step - loss: 1.3590 - acc: 0.5399 - val_loss: 0.6880 - val_acc: 0.5521\n",
      "Epoch 2/25\n",
      "29/29 [==============================] - 7s 225ms/step - loss: 0.7454 - acc: 0.5686 - val_loss: 0.6634 - val_acc: 0.5868\n",
      "Epoch 3/25\n",
      "29/29 [==============================] - 7s 230ms/step - loss: 0.6952 - acc: 0.5808 - val_loss: 0.6363 - val_acc: 0.6435\n",
      "Epoch 4/25\n",
      "29/29 [==============================] - 7s 229ms/step - loss: 0.6744 - acc: 0.5864 - val_loss: 0.6587 - val_acc: 0.6278\n",
      "Epoch 5/25\n",
      "29/29 [==============================] - 7s 225ms/step - loss: 0.6436 - acc: 0.6188 - val_loss: 0.6226 - val_acc: 0.6688\n",
      "Epoch 6/25\n",
      "29/29 [==============================] - 7s 226ms/step - loss: 0.6533 - acc: 0.6228 - val_loss: 0.6137 - val_acc: 0.6909\n",
      "Epoch 7/25\n",
      "29/29 [==============================] - 7s 244ms/step - loss: 0.6549 - acc: 0.6197 - val_loss: 0.6900 - val_acc: 0.5647\n",
      "Epoch 8/25\n",
      "29/29 [==============================] - 7s 242ms/step - loss: 0.6847 - acc: 0.5975 - val_loss: 0.6431 - val_acc: 0.6530\n",
      "Epoch 9/25\n",
      "29/29 [==============================] - 7s 239ms/step - loss: 0.6648 - acc: 0.6192 - val_loss: 0.6482 - val_acc: 0.6435\n",
      "Epoch 10/25\n",
      "29/29 [==============================] - 8s 270ms/step - loss: 0.6409 - acc: 0.6228 - val_loss: 0.5993 - val_acc: 0.6719\n",
      "Epoch 11/25\n",
      "29/29 [==============================] - 7s 237ms/step - loss: 0.5920 - acc: 0.6777 - val_loss: 0.6415 - val_acc: 0.6656\n",
      "Epoch 12/25\n",
      "29/29 [==============================] - 7s 228ms/step - loss: 0.5944 - acc: 0.6925 - val_loss: 0.6741 - val_acc: 0.6309\n",
      "Epoch 13/25\n",
      "29/29 [==============================] - 7s 228ms/step - loss: 0.6095 - acc: 0.6735 - val_loss: 0.6273 - val_acc: 0.6719\n",
      "Epoch 14/25\n",
      "29/29 [==============================] - 7s 241ms/step - loss: 0.5944 - acc: 0.6901 - val_loss: 0.7695 - val_acc: 0.6435\n",
      "Epoch 15/25\n",
      "29/29 [==============================] - 7s 236ms/step - loss: 0.5464 - acc: 0.7149 - val_loss: 0.6390 - val_acc: 0.6940\n",
      "Epoch 16/25\n",
      "29/29 [==============================] - 7s 242ms/step - loss: 0.5637 - acc: 0.6889 - val_loss: 0.6334 - val_acc: 0.6972\n",
      "Epoch 17/25\n",
      "29/29 [==============================] - 7s 234ms/step - loss: 0.5682 - acc: 0.7067 - val_loss: 0.5980 - val_acc: 0.7035\n",
      "Epoch 18/25\n",
      "29/29 [==============================] - 7s 238ms/step - loss: 0.5378 - acc: 0.7170 - val_loss: 0.5725 - val_acc: 0.7161\n",
      "Epoch 19/25\n",
      "29/29 [==============================] - 7s 245ms/step - loss: 0.5260 - acc: 0.7280 - val_loss: 0.6638 - val_acc: 0.6909\n",
      "Epoch 20/25\n",
      "29/29 [==============================] - 7s 239ms/step - loss: 0.5377 - acc: 0.7287 - val_loss: 0.5500 - val_acc: 0.7192\n",
      "Epoch 21/25\n",
      "29/29 [==============================] - 7s 233ms/step - loss: 0.5473 - acc: 0.7112 - val_loss: 0.5633 - val_acc: 0.6972\n",
      "Epoch 22/25\n",
      "29/29 [==============================] - 7s 233ms/step - loss: 0.5336 - acc: 0.7323 - val_loss: 0.5201 - val_acc: 0.7413\n",
      "Epoch 23/25\n",
      "29/29 [==============================] - 7s 230ms/step - loss: 0.5363 - acc: 0.7137 - val_loss: 0.5466 - val_acc: 0.7098\n",
      "Epoch 24/25\n",
      "29/29 [==============================] - 6s 222ms/step - loss: 0.4973 - acc: 0.7565 - val_loss: 0.6628 - val_acc: 0.7035\n",
      "Epoch 25/25\n",
      "29/29 [==============================] - 7s 226ms/step - loss: 0.4760 - acc: 0.7672 - val_loss: 0.5580 - val_acc: 0.7192\n",
      "[INFO] serializing network...\n"
     ]
    }
   ],
   "source": [
    "EPOCHS = 25\n",
    "INIT_LR = 1e-3\n",
    "BS = 32\n",
    "\n",
    "# initialize the data and labels\n",
    "print(\"[INFO] loading images...\")\n",
    "data = []\n",
    "labels = []\n",
    "\n",
    "# grab the image paths and randomly shuffle them\n",
    "imagePaths = sorted(list(paths.list_images(\"images\")))\n",
    "random.seed(42)\n",
    "random.shuffle(imagePaths)\n",
    "\n",
    "# loop over the input images\n",
    "for imagePath in imagePaths:\n",
    "\t# load the image, pre-process it, and store it in the data list\n",
    "\timage = cv2.imread(imagePath)\n",
    "\timage = cv2.resize(image, (28, 28))\n",
    "\timage = img_to_array(image)\n",
    "\tdata.append(image)\n",
    "\n",
    "\t# extract the class label from the image path and update the\n",
    "\t# labels list\n",
    "\tlabel = imagePath.split(os.path.sep)[-2]\n",
    "\tlabel = 1 if label == \"vehicle\" else 0\n",
    "\tlabels.append(label)\n",
    "\n",
    "# scale the raw pixel intensities to the range [0, 1]\n",
    "data = np.array(data, dtype=\"float\") / 255.0\n",
    "labels = np.array(labels)\n",
    "\n",
    "# partition the data into training and testing splits using 75% of\n",
    "# the data for training and the remaining 25% for testing\n",
    "(trainX, testX, trainY, testY) = train_test_split(data,\n",
    "\tlabels, test_size=0.25, random_state=42)\n",
    "\n",
    "# convert the labels from integers to vectors\n",
    "trainY = to_categorical(trainY, num_classes=4)\n",
    "testY = to_categorical(testY, num_classes=4)\n",
    "\n",
    "# construct the image generator for data augmentation\n",
    "aug = ImageDataGenerator(rotation_range=30, width_shift_range=0.1,\n",
    "\theight_shift_range=0.1, shear_range=0.2, zoom_range=0.2,\n",
    "\thorizontal_flip=True, fill_mode=\"nearest\")\n",
    "\n",
    "# initialize the model\n",
    "print(\"[INFO] compiling model...\")\n",
    "model = LeNet.build(width=28, height=28, depth=3, classes=4)\n",
    "opt = Adam(lr=INIT_LR, decay=INIT_LR / EPOCHS)\n",
    "model.compile(loss=\"categorical_crossentropy\", optimizer=opt,\n",
    "\tmetrics=[\"accuracy\"])\n",
    "\n",
    "# train the network\n",
    "print(\"[INFO] training network...\")\n",
    "H = model.fit_generator(aug.flow(trainX, trainY, batch_size=BS),\n",
    "\tvalidation_data=(testX, testY), steps_per_epoch=len(trainX) // BS,\n",
    "\tepochs=EPOCHS, verbose=1)\n",
    "\n",
    "# save the model to disk\n",
    "print(\"[INFO] serializing network...\")\n",
    "model.save(\"EmergencyDetector.model\")\n",
    "\n",
    "# plot the training loss and accuracy\n"
   ]
  },
  {
   "cell_type": "code",
   "execution_count": 10,
   "metadata": {},
   "outputs": [
    {
     "data": {
      "text/plain": [
       "<module 'matplotlib.pyplot' from '/usr/local/lib/python3.5/dist-packages/matplotlib/pyplot.py'>"
      ]
     },
     "metadata": {},
     "output_type": "display_data"
    },
    {
     "data": {
      "image/png": "[encoded data removed]",
      "text/plain": [
       "<Figure size 432x288 with 1 Axes>"
      ]
     },
     "metadata": {},
     "output_type": "display_data"
    }
   ],
   "source": [
    "%matplotlib inline\n",
    "plt.style.use(\"ggplot\")\n",
    "plt.figure()\n",
    "N = EPOCHS\n",
    "plt.plot(np.arange(0, N), H.history[\"loss\"], label=\"train_loss\")\n",
    "plt.plot(np.arange(0, N), H.history[\"val_loss\"], label=\"val_loss\")\n",
    "plt.plot(np.arange(0, N), H.history[\"acc\"], label=\"train_acc\")\n",
    "plt.plot(np.arange(0, N), H.history[\"val_acc\"], label=\"val_acc\")\n",
    "plt.title(\"Training Loss and Accuracy on Santa/Not Santa\")\n",
    "plt.xlabel(\"Epoch #\")\n",
    "plt.ylabel(\"Loss/Accuracy\")\n",
    "plt.legend(loc=\"lower left\")\n",
    "display(plt)"
   ]
  },
  {
   "cell_type": "code",
   "execution_count": 18,
   "metadata": {},
   "outputs": [
    {
     "ename": "NameError",
     "evalue": "name 'x' is not defined",
     "output_type": "error",
     "traceback": [
      "\u001b[0;31m---------------------------------------------------------------------------\u001b[0m",
      "\u001b[0;31mNameError\u001b[0m                                 Traceback (most recent call last)",
      "\u001b[0;32m<ipython-input-18-6b2172f35ff7>\u001b[0m in \u001b[0;36m<module>\u001b[0;34m()\u001b[0m\n\u001b[1;32m      4\u001b[0m \u001b[0;32mimport\u001b[0m \u001b[0mpandas\u001b[0m \u001b[0;32mas\u001b[0m \u001b[0mpd\u001b[0m\u001b[0;34m\u001b[0m\u001b[0m\n\u001b[1;32m      5\u001b[0m \u001b[0mget_ipython\u001b[0m\u001b[0;34m(\u001b[0m\u001b[0;34m)\u001b[0m\u001b[0;34m.\u001b[0m\u001b[0mrun_line_magic\u001b[0m\u001b[0;34m(\u001b[0m\u001b[0;34m'matplotlib'\u001b[0m\u001b[0;34m,\u001b[0m \u001b[0;34m'inline'\u001b[0m\u001b[0;34m)\u001b[0m\u001b[0;34m\u001b[0m\u001b[0m\n\u001b[0;32m----> 6\u001b[0;31m \u001b[0mexpr\u001b[0m \u001b[0;34m=\u001b[0m \u001b[0mx\u001b[0m\u001b[0;34m**\u001b[0m\u001b[0;36m2\u001b[0m \u001b[0;34m+\u001b[0m \u001b[0msqrt\u001b[0m\u001b[0;34m(\u001b[0m\u001b[0;36m3\u001b[0m\u001b[0;34m)\u001b[0m\u001b[0;34m*\u001b[0m\u001b[0mx\u001b[0m \u001b[0;34m-\u001b[0m \u001b[0mRational\u001b[0m\u001b[0;34m(\u001b[0m\u001b[0;36m1\u001b[0m\u001b[0;34m,\u001b[0m \u001b[0;36m3\u001b[0m\u001b[0;34m)\u001b[0m\u001b[0;34m\u001b[0m\u001b[0m\n\u001b[0m\u001b[1;32m      7\u001b[0m \u001b[0mlf\u001b[0m \u001b[0;34m=\u001b[0m \u001b[0mlambdify\u001b[0m\u001b[0;34m(\u001b[0m\u001b[0mx\u001b[0m\u001b[0;34m,\u001b[0m \u001b[0mexpr\u001b[0m\u001b[0;34m)\u001b[0m\u001b[0;34m\u001b[0m\u001b[0m\n\u001b[1;32m      8\u001b[0m \u001b[0;34m\u001b[0m\u001b[0m\n",
      "\u001b[0;31mNameError\u001b[0m: name 'x' is not defined"
     ]
    }
   ],
   "source": []
  },
  {
   "cell_type": "code",
   "execution_count": 10,
   "metadata": {},
   "outputs": [
    {
     "name": "stdout",
     "output_type": "stream",
     "text": [
      "Collecting sympy\n",
      "  Downloading https://files.pythonhosted.org/packages/91/26/4e477dbd1f9260eb743d9f221af3044648a8fb2fcf3f2f23daee4dc831a4/sympy-1.1.1.tar.gz (4.6MB)\n",
      "\u001b[K    100% |################################| 4.6MB 195kB/s eta 0:00:01    65% |####################            | 3.0MB 7.1MB/s eta 0:00:01\n",
      "\u001b[?25hCollecting mpmath>=0.19 (from sympy)\n",
      "  Downloading https://files.pythonhosted.org/packages/7a/05/b3d1472885d8dc0606936ea5da0ccb1b4785682e78ab15e34ada24aea8d5/mpmath-1.0.0.tar.gz (511kB)\n",
      "\u001b[K    100% |################################| 512kB 1.4MB/s eta 0:00:01\n",
      "\u001b[?25hBuilding wheels for collected packages: sympy, mpmath\n",
      "  Running setup.py bdist_wheel for sympy ... \u001b[?25ldone\n",
      "\u001b[?25h  Stored in directory: /root/.cache/pip/wheels/6d/47/7c/40a7cd9b9bd5bad329fcd21d8e50629700fcc6e5520a66a2de\n",
      "  Running setup.py bdist_wheel for mpmath ... \u001b[?25ldone\n",
      "\u001b[?25h  Stored in directory: /root/.cache/pip/wheels/33/15/0f/9ca5f2ad88a5456803098daa189f382408a81556aa209e97ff\n",
      "Successfully built sympy mpmath\n",
      "Installing collected packages: mpmath, sympy\n",
      "Successfully installed mpmath-1.0.0 sympy-1.1.1\n",
      "\u001b[33mYou are using pip version 9.0.3, however version 10.0.1 is available.\n",
      "You should consider upgrading via the 'pip install --upgrade pip' command.\u001b[0m\n"
     ]
    }
   ],
   "source": [
    "\n"
   ]
  },
  {
   "cell_type": "code",
   "execution_count": 9,
   "metadata": {},
   "outputs": [
    {
     "name": "stdout",
     "output_type": "stream",
     "text": [
      "\u001b[31mDEPRECATION: The default format will switch to columns in the future. You can use --format=(legacy|columns) (or define a format=(legacy|columns) in your pip.conf under the [list] section) to disable this warning.\u001b[0m\n",
      "absl-py (0.1.12)\n",
      "astor (0.6.2)\n",
      "bleach (1.5.0)\n",
      "certifi (2018.1.18)\n",
      "chardet (3.0.4)\n",
      "cycler (0.10.0)\n",
      "Cython (0.28.1)\n",
      "decorator (4.2.1)\n",
      "entrypoints (0.2.3)\n",
      "gast (0.2.0)\n",
      "grpcio (1.10.0)\n",
      "h5py (2.7.1)\n",
      "html5lib (0.9999999)\n",
      "idna (2.6)\n",
      "imutils (0.4.6)\n",
      "ipykernel (4.8.2)\n",
      "ipython (6.2.1)\n",
      "ipython-genutils (0.2.0)\n",
      "ipywidgets (7.1.2)\n",
      "jedi (0.11.1)\n",
      "Jinja2 (2.10)\n",
      "jsonschema (2.6.0)\n",
      "jupyter (1.0.0)\n",
      "jupyter-client (5.2.3)\n",
      "jupyter-console (5.2.0)\n",
      "jupyter-core (4.4.0)\n",
      "Keras (2.1.5)\n",
      "kiwisolver (1.0.1)\n",
      "leveldb (0.194)\n",
      "lmdb (0.93)\n",
      "Markdown (2.6.11)\n",
      "MarkupSafe (1.0)\n",
      "matplotlib (2.2.2)\n",
      "mistune (0.8.3)\n",
      "mpmath (1.0.0)\n",
      "nbconvert (5.3.1)\n",
      "nbformat (4.4.0)\n",
      "networkx (2.1)\n",
      "nose (1.3.7)\n",
      "notebook (5.4.1)\n",
      "numpy (1.14.2)\n",
      "pandas (0.22.0)\n",
      "pandocfilters (1.4.2)\n",
      "parso (0.1.1)\n",
      "pexpect (4.4.0)\n",
      "pickleshare (0.7.4)\n",
      "Pillow (5.0.0)\n",
      "pip (9.0.3)\n",
      "prompt-toolkit (1.0.15)\n",
      "protobuf (3.5.2.post1)\n",
      "ptyprocess (0.5.2)\n",
      "pycocotools (2.0)\n",
      "pydot-ng (1.0.0)\n",
      "Pygments (2.2.0)\n",
      "pyparsing (2.2.0)\n",
      "python-dateutil (2.7.0)\n",
      "python-gflags (3.1.2)\n",
      "pytz (2018.3)\n",
      "PyWavelets (0.5.2)\n",
      "PyYAML (3.12)\n",
      "pyzmq (17.0.0)\n",
      "qtconsole (4.3.1)\n",
      "requests (2.18.4)\n",
      "scikit-image (0.13.1)\n",
      "scikit-learn (0.19.1)\n",
      "scipy (1.0.0)\n",
      "Send2Trash (1.5.0)\n",
      "setuptools (39.0.1)\n",
      "simplegeneric (0.8.1)\n",
      "six (1.11.0)\n",
      "sklearn (0.0)\n",
      "sympy (1.1.1)\n",
      "tensorboard (1.6.0)\n",
      "tensorflow (1.6.0)\n",
      "termcolor (1.1.0)\n",
      "terminado (0.8.1)\n",
      "testpath (0.3.1)\n",
      "torch (0.3.1)\n",
      "torchvision (0.2.0)\n",
      "tornado (5.0.1)\n",
      "traitlets (4.3.2)\n",
      "urllib3 (1.22)\n",
      "wcwidth (0.1.7)\n",
      "webencodings (0.5.1)\n",
      "Werkzeug (0.14.1)\n",
      "wheel (0.30.0)\n",
      "widgetsnbextension (3.1.4)\n"
     ]
    }
   ],
   "source": [
    "!pip list\n"
   ]
  },
  {
   "cell_type": "code",
   "execution_count": null,
   "metadata": {},
   "outputs": [],
   "source": []
  }
 ],
 "metadata": {
  "kernelspec": {
   "display_name": "Python 3",
   "language": "python",
   "name": "python3"
  },
  "language_info": {
   "codemirror_mode": {
    "name": "ipython",
    "version": 3
   },
   "file_extension": ".py",
   "mimetype": "text/x-python",
   "name": "python",
   "nbconvert_exporter": "python",
   "pygments_lexer": "ipython3",
   "version": "3.5.2"
  }
 },
 "nbformat": 4,
 "nbformat_minor": 2
}
